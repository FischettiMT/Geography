{
 "cells": [
  {
   "cell_type": "code",
   "execution_count": null,
   "metadata": {},
   "outputs": [],
   "source": [
    "import pandas as pd\n",
    "from IPython.display import IFrame, display\n",
    "from random import shuffle,sample \n",
    "\n",
    "df_flags=pd.read_csv(\"flags_iso.csv\")\n",
    "country_codes=df_flags[\"Alpha-2 code\"].to_list()\n",
    "choices=sample(country_codes, k=4)\n",
    "# print(choices)\n",
    "answer=choices[0]\n",
    "# print(answer)\n",
    "shuffle(choices)\n",
    "# print(choices)\n",
    "\n",
    "flag_url=df_flags.loc[df_flags[\"Alpha-2 code\"]==answer][\"URL\"].iat[0]\n",
    "flag_image=IFrame(src=flag_url,width=200, height=100)\n",
    "display(flag_image)\n",
    "print(choices)\n",
    "\n",
    "userChoice=input(\"What flag is this? \").upper()\n",
    "print(userChoice)\n",
    "\n",
    "if userChoice == answer:\n",
    "    print(f\"'{userChoice}' is correct!\")\n",
    "else:\n",
    "    print(f\"Sorry, '{userChoice}' is incorrect. The correct answer is '{answer}'.\")\n",
    "\n",
    "\n"
   ]
  }
 ],
 "metadata": {
  "kernelspec": {
   "display_name": "Python 3",
   "language": "python",
   "name": "python3"
  },
  "language_info": {
   "codemirror_mode": {
    "name": "ipython",
    "version": 3
   },
   "file_extension": ".py",
   "mimetype": "text/x-python",
   "name": "python",
   "nbconvert_exporter": "python",
   "pygments_lexer": "ipython3",
   "version": "3.9.6"
  }
 },
 "nbformat": 4,
 "nbformat_minor": 2
}
