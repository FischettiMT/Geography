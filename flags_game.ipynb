{
 "cells": [
  {
   "cell_type": "code",
   "execution_count": 13,
   "metadata": {},
   "outputs": [
    {
     "name": "stdout",
     "output_type": "stream",
     "text": [
      "FINAL: Number of flags: 6        Number correct: 4\n",
      "\n"
     ]
    }
   ],
   "source": [
    "import pandas as pd\n",
    "from IPython.display import IFrame, display, clear_output\n",
    "from random import shuffle,sample \n",
    "import os\n",
    "import time\n",
    "\n",
    "os.system(\"cls\")\n",
    "\n",
    "time_limit=20\n",
    "num_flags=0\n",
    "num_correct=0\n",
    "\n",
    "df_flags=pd.read_csv(\"flags_iso.csv\")\n",
    "country_codes=df_flags[\"Alpha-2 code\"].to_list()\n",
    "time_end = time.time() + time_limit\n",
    "\n",
    "while time.time() < time_end:\n",
    "    num_flags += 1\n",
    "    choices=sample(country_codes, k=4)\n",
    "    answer=choices[0]\n",
    "    shuffle(choices)\n",
    "\n",
    "    flag_url=df_flags.loc[df_flags[\"Alpha-2 code\"]==answer][\"URL\"].iat[0]\n",
    "    flag_image=IFrame(src=flag_url,width=200, height=100)\n",
    "    display(flag_image)\n",
    "    print(choices)\n",
    "\n",
    "    userChoice=input(\"What flag is this? \").upper()\n",
    "    print(userChoice)\n",
    "\n",
    "    if userChoice == answer:\n",
    "        num_correct += 1\n",
    "        print(f\"'{userChoice}' is correct!\")\n",
    "    else:\n",
    "        print(f\"Sorry, '{userChoice}' is incorrect. The correct answer is '{answer}'.\")\n",
    "        \n",
    "    print('\\n\\n')\n",
    "    # clear_output(wait=False)\n",
    "    # print(\"\",flush=True)\n",
    "    \n",
    "    clear_output(wait=False)\n",
    "    print(f\"Number of flags: {num_flags}        Number correct: {num_correct}\")\n",
    "    print(\"\",flush=True)\n",
    "        \n",
    "        \n",
    "clear_output(wait=False)\n",
    "print(f\"FINAL: Number of flags: {num_flags}        Number correct: {num_correct}\")\n",
    "print(\"\",flush=True)\n",
    "\n",
    "\n",
    "\n"
   ]
  }
 ],
 "metadata": {
  "kernelspec": {
   "display_name": "Python 3",
   "language": "python",
   "name": "python3"
  },
  "language_info": {
   "codemirror_mode": {
    "name": "ipython",
    "version": 3
   },
   "file_extension": ".py",
   "mimetype": "text/x-python",
   "name": "python",
   "nbconvert_exporter": "python",
   "pygments_lexer": "ipython3",
   "version": "3.9.6"
  }
 },
 "nbformat": 4,
 "nbformat_minor": 2
}
