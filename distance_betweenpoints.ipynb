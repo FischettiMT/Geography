{
 "cells": [
  {
   "cell_type": "code",
   "execution_count": 5,
   "metadata": {},
   "outputs": [],
   "source": [
    "from geopy.distance import geodesic\n"
   ]
  },
  {
   "cell_type": "code",
   "execution_count": 6,
   "metadata": {},
   "outputs": [],
   "source": [
    "max = (34.84303, -82.24805)  # 202 Reinbert St, Greenville, Sc 29615\n",
    "joe = (29.209419, -82.212540)  # 2210 NW 55th Avenue Rd, Ocala, FL 34482"
   ]
  },
  {
   "cell_type": "code",
   "execution_count": 7,
   "metadata": {},
   "outputs": [
    {
     "name": "stdout",
     "output_type": "stream",
     "text": [
      "624706.9745383963 meters\n",
      "624.7069745383964 km\n",
      "388.17491756790116 miles\n"
     ]
    }
   ],
   "source": [
    "print(geodesic(max, joe).meters, 'meters')\n",
    "print(geodesic(max, joe).kilometers, 'km')\n",
    "print(geodesic(max, joe).miles, 'miles')"
   ]
  },
  {
   "cell_type": "code",
   "execution_count": 9,
   "metadata": {},
   "outputs": [
    {
     "name": "stdout",
     "output_type": "stream",
     "text": [
      "402.5076563510301 miles\n"
     ]
    }
   ],
   "source": [
    "wash = (38.889805, -77.009056)\n",
    "print(geodesic(wash, max).miles, 'miles')"
   ]
  },
  {
   "cell_type": "code",
   "execution_count": 10,
   "metadata": {},
   "outputs": [
    {
     "name": "stdout",
     "output_type": "stream",
     "text": [
      "402.5076563510301 miles\n"
     ]
    }
   ],
   "source": [
    "\n",
    "print(geodesic((38.889805, -77.009056), (34.84303, -82.24805)).miles, 'miles')"
   ]
  }
 ],
 "metadata": {
  "kernelspec": {
   "display_name": "Python 3",
   "language": "python",
   "name": "python3"
  },
  "language_info": {
   "codemirror_mode": {
    "name": "ipython",
    "version": 3
   },
   "file_extension": ".py",
   "mimetype": "text/x-python",
   "name": "python",
   "nbconvert_exporter": "python",
   "pygments_lexer": "ipython3",
   "version": "3.9.6"
  }
 },
 "nbformat": 4,
 "nbformat_minor": 2
}
